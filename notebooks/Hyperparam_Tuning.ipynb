{
 "cells": [
  {
   "cell_type": "code",
   "execution_count": 1,
   "id": "0a669ca1",
   "metadata": {},
   "outputs": [],
   "source": [
    "import optuna"
   ]
  },
  {
   "cell_type": "code",
   "execution_count": null,
   "id": "4437616c",
   "metadata": {},
   "outputs": [],
   "source": [
    "def create_study():\n",
    "    \"\"\"\n",
    "    Create a study for parameter tuning.\n",
    "    \"\"\"\n",
    "    study_folder = 'HPO'\n",
    "    CWD = os.getcwd()\n",
    "    folder_path = os.path.join(CWD, study_folder)\n",
    "    if not os.path.exists(folder_path):\n",
    "        os.makedirs(folder_path)\n",
    "        \n",
    "    SEED = 9855502\n",
    "    count = 0\n",
    "    while True:\n",
    "        study_name = f\"HPO_{count}\"\n",
    "        study_path = os.path.join(study_folder, study_name)\n",
    "        storage_name  = \"sqlite:///{}.db\".format(study_path)\n",
    "        try:\n",
    "            study = optuna.create_study(direction='maximize',study_name=study_path, \n",
    "                                        storage=storage_name,load_if_exists=False, \n",
    "                                        sampler=optuna.samplers.TPESampler(seed=SEED))\n",
    "        except optuna.exceptions.DuplicatedStudyError:\n",
    "            count += 1\n",
    "        else:\n",
    "            break;\n",
    "    return study"
   ]
  }
 ],
 "metadata": {
  "kernelspec": {
   "display_name": "QCB",
   "language": "python",
   "name": "qcb"
  },
  "language_info": {
   "codemirror_mode": {
    "name": "ipython",
    "version": 3
   },
   "file_extension": ".py",
   "mimetype": "text/x-python",
   "name": "python",
   "nbconvert_exporter": "python",
   "pygments_lexer": "ipython3",
   "version": "3.8.13"
  }
 },
 "nbformat": 4,
 "nbformat_minor": 5
}
