{
 "cells": [
  {
   "cell_type": "code",
   "execution_count": 1,
   "id": "f0bc2ff1",
   "metadata": {},
   "outputs": [],
   "source": [
    "import optuna\n",
    "import os\n",
    "import warnings\n",
    "import itertools\n",
    "import importlib\n",
    "import sys\n",
    "warnings.filterwarnings('ignore')"
   ]
  },
  {
   "cell_type": "code",
   "execution_count": 2,
   "id": "d4874472",
   "metadata": {},
   "outputs": [],
   "source": [
    "from qiskit.aqua.components.optimizers import SPSA, COBYLA\n",
    "from qiskit.circuit.library import ZZFeatureMap, TwoLocal, EfficientSU2"
   ]
  },
  {
   "cell_type": "code",
   "execution_count": 3,
   "id": "9e327a20",
   "metadata": {},
   "outputs": [],
   "source": [
    "def create_study(start_new=True, count=0):\n",
    "    \"\"\"\n",
    "    Create a study for parameter tuning.\n",
    "    \"\"\"\n",
    "    study_folder = 'HPO'\n",
    "    CWD = os.getcwd()\n",
    "    folder_path = os.path.join(CWD, study_folder)\n",
    "    if not os.path.exists(folder_path):\n",
    "        os.makedirs(folder_path)\n",
    "        \n",
    "    SEED = 9855502\n",
    "    #count = 0\n",
    "    while True:\n",
    "        study_name = f\"HPO_{count}\"\n",
    "        study_path = os.path.join(study_folder, study_name)\n",
    "        storage_name  = \"sqlite:///{}.db\".format(study_path)\n",
    "        if start_new:\n",
    "            try:\n",
    "                study = optuna.create_study(direction='maximize',study_name=study_path, \n",
    "                                            storage=storage_name,load_if_exists=False, \n",
    "                                            sampler=optuna.samplers.TPESampler(seed=SEED))\n",
    "            except optuna.exceptions.DuplicatedStudyError:\n",
    "                count += 1\n",
    "            else:\n",
    "                break\n",
    "        else:\n",
    "            study = optuna.create_study(direction='maximize',study_name=study_path, \n",
    "                                            storage=storage_name,load_if_exists=True, \n",
    "                                            sampler=optuna.samplers.TPESampler(seed=SEED))\n",
    "            break\n",
    "    return study"
   ]
  },
  {
   "cell_type": "code",
   "execution_count": 4,
   "id": "aa3604d9",
   "metadata": {},
   "outputs": [],
   "source": [
    "def objective(trial):\n",
    "    \"\"\"\n",
    "    Defines an objective that we try to optimze. In this project, it's the AUC for classification. \n",
    "    Simply run this block.\n",
    "    \n",
    "    Args:\n",
    "        trial (object): a specific trial with given combinations of parameters\n",
    "        \n",
    "    Returns:\n",
    "        -1 if the given combination of param is not compatible with the model;\n",
    "    \"\"\"\n",
    "    num_job = trial.suggest_int('num_job', 10, 50)\n",
    "    encoder_depth = trial.suggest_int('encoder_depth', 1, 5)\n",
    "    vqc_depth = trial.suggest_int('vqc_depth', 1, 5)\n",
    "    num_iter = trial.suggest_int('num_iter', 1, 5)\n",
    "    optimizer = trial.suggest_categorical('optimizer', ['COBYLA'])\n",
    "    feature_map = trial.suggest_categorical('feature_map', ['ZZFeatureMap'])\n",
    "    var_form = trial.suggest_categorical('var_form', ['EfficientSU2'])\n",
    "    \n",
    "    high_level_var = ['JetCentralEFrac', 'JetLeadingTrackFracP', 'JetTrackR', 'JetMaxDRInCore',\n",
    "                      'JetNumISOTracks', 'JetLeadingTrackD0','JetTrackMass']\n",
    "    four_vec = ['JetPt', 'JetEta', 'JetPhi', 'JetE']\n",
    "    mixed_var = [list(i) for i in itertools.combinations(high_level_var, 3)]\n",
    "    all_feature_options = [four_vec] + mixed_var + [high_level_var]\n",
    "    features = trial.suggest_categorical('features', all_feature_options)\n",
    "    \n",
    "    config = {\n",
    "        \"model\": \"QCL\",\n",
    "        \"input_dir\": \"../datasets/gamma_ditau.csv\",\n",
    "        \"output_dir\": \"outputs/gamma_ditau\",\n",
    "        \"num_evt\": 40,\n",
    "        \"num_job\": num_job,\n",
    "        \"encoder_depth\": encoder_depth,\n",
    "        \"vqc_depth\": vqc_depth,\n",
    "        \"num_iter\": num_iter,\n",
    "        \"shots\": 1024,\n",
    "        \"optimizer\": eval(optimizer),\n",
    "        \"feature_map\": eval(feature_map),\n",
    "        \"var_form\": eval(var_form),\n",
    "        \"features\": features,\n",
    "        \"backend\": \"aer_simulator\"\n",
    "    }\n",
    "    \n",
    "    try:\n",
    "        model_name = config['model']\n",
    "        model_file = importlib.import_module(f\"src.models.{model_name}\")\n",
    "        model_class = model_file.Model\n",
    "\n",
    "        model = model_class(config, save_fig=False, overwrite=False, debug=False, hide_display=True)\n",
    "        model.train()\n",
    "        return model.evaluate()[1] # Testing AUC\n",
    "    except:\n",
    "        return -1 # the given combination of param is not compatible with the model"
   ]
  },
  {
   "cell_type": "code",
   "execution_count": 5,
   "id": "70a834df",
   "metadata": {},
   "outputs": [
    {
     "name": "stderr",
     "output_type": "stream",
     "text": [
      "\u001b[32m[I 2022-04-11 21:30:54,750]\u001b[0m Using an existing study with name 'HPO/HPO_0' instead of creating a new one.\u001b[0m\n"
     ]
    },
    {
     "name": "stdout",
     "output_type": "stream",
     "text": [
      "\n",
      "   Return from subroutine COBYLA because the MAXFUN limit has been reached.\n",
      "\n",
      "   NFVALS =    3   F = 7.520592E-01    MAXCV = 0.000000E+00\n",
      "   X = 2.958402E-01   9.418710E-01  -1.437752E+00  -7.083164E-01  -9.088121E-01\n",
      "      -8.145437E-04   6.988002E-01   1.291511E+00  -1.526242E+00  -1.697375E+00\n",
      "      -9.510713E-01  -1.117635E+00   1.222575E+00   4.074455E-01  -1.373546E-01\n",
      "       2.446682E-02  -2.389379E-01   1.411688E+00\n"
     ]
    },
    {
     "name": "stderr",
     "output_type": "stream",
     "text": [
      "\u001b[32m[I 2022-04-11 21:30:59,929]\u001b[0m Trial 55 finished with value: 0.4340277777777778 and parameters: {'num_job': 32, 'encoder_depth': 1, 'vqc_depth': 2, 'num_iter': 3, 'optimizer': 'COBYLA', 'feature_map': 'ZZFeatureMap', 'var_form': 'EfficientSU2', 'features': ['JetCentralEFrac', 'JetMaxDRInCore', 'JetNumISOTracks']}. Best is trial 12 with value: 0.9166666666666667.\u001b[0m\n"
     ]
    },
    {
     "name": "stdout",
     "output_type": "stream",
     "text": [
      "\n",
      "   Return from subroutine COBYLA because the MAXFUN limit has been reached.\n",
      "\n",
      "   NFVALS =    5   F = 6.481767E-01    MAXCV = 0.000000E+00\n",
      "   X = 1.030561E+00   8.374699E-01  -8.759896E-01   1.835648E+00  -1.524826E+00\n",
      "      -2.450052E-01  -1.186509E+00  -1.685815E-01   1.839752E+00   1.168672E+00\n",
      "       1.359624E+00   6.733808E-01  -8.561878E-01   4.050813E-01  -6.144563E-01\n",
      "       9.942307E-01  -4.558441E-01   2.046377E+00  -9.405157E-01  -4.984515E-01\n",
      "      -1.793357E+00  -1.429938E+00  -2.785989E+00  -3.498672E-01\n"
     ]
    },
    {
     "name": "stderr",
     "output_type": "stream",
     "text": [
      "\u001b[32m[I 2022-04-11 21:31:06,160]\u001b[0m Trial 56 finished with value: 0.6805555555555555 and parameters: {'num_job': 14, 'encoder_depth': 4, 'vqc_depth': 3, 'num_iter': 5, 'optimizer': 'COBYLA', 'feature_map': 'ZZFeatureMap', 'var_form': 'EfficientSU2', 'features': ['JetCentralEFrac', 'JetLeadingTrackFracP', 'JetTrackMass']}. Best is trial 12 with value: 0.9166666666666667.\u001b[0m\n"
     ]
    },
    {
     "name": "stdout",
     "output_type": "stream",
     "text": [
      "\n",
      "   Return from subroutine COBYLA because the MAXFUN limit has been reached.\n",
      "\n",
      "   NFVALS =    4   F = 6.797373E-01    MAXCV = 0.000000E+00\n",
      "   X = 3.663313E-02  -5.411279E-01   3.827447E+00   1.359794E+00   1.889857E+00\n",
      "      -9.486407E-01   9.192001E-01   1.515929E-01   6.209121E-01  -5.441045E-01\n",
      "      -3.415512E-01  -5.650173E-01  -2.175475E-01   1.493855E+00  -4.349144E-01\n",
      "       5.749804E-01  -9.211293E-01   1.372160E+00   7.453570E-01  -1.193870E-01\n",
      "      -8.036473E-01  -7.287163E-01  -1.958863E+00  -6.069571E-01  -1.988572E-01\n",
      "       5.012587E-03  -4.418158E-01  -2.261015E+00   4.917490E-01  -4.156982E-01\n"
     ]
    },
    {
     "name": "stderr",
     "output_type": "stream",
     "text": [
      "\u001b[32m[I 2022-04-11 21:31:12,143]\u001b[0m Trial 57 finished with value: 0.3819444444444444 and parameters: {'num_job': 29, 'encoder_depth': 5, 'vqc_depth': 4, 'num_iter': 4, 'optimizer': 'COBYLA', 'feature_map': 'ZZFeatureMap', 'var_form': 'EfficientSU2', 'features': ['JetCentralEFrac', 'JetLeadingTrackFracP', 'JetMaxDRInCore']}. Best is trial 12 with value: 0.9166666666666667.\u001b[0m\n"
     ]
    },
    {
     "name": "stdout",
     "output_type": "stream",
     "text": [
      "\n",
      "   Return from subroutine COBYLA because the MAXFUN limit has been reached.\n",
      "\n",
      "   NFVALS =    5   F = 6.981281E-01    MAXCV = 0.000000E+00\n",
      "   X = 8.568492E-02   3.364887E-01   1.373218E+00  -6.040199E-02  -6.387799E-01\n",
      "      -1.194891E+00  -1.177688E-01   9.102175E-01  -3.636592E-01   9.316399E-01\n",
      "      -8.014620E-01  -1.275660E+00   3.828713E-02  -4.299158E-01  -4.025332E-01\n",
      "       7.232203E-01  -1.080711E+00  -1.164366E+00  -2.659854E-01  -3.477060E-01\n",
      "       1.195558E-01   2.628206E-02   4.187234E-02   5.172965E-01  -3.479391E-01\n",
      "      -1.577835E+00   1.836631E-02   9.932043E-01  -9.622219E-01   1.128350E+00\n"
     ]
    },
    {
     "name": "stderr",
     "output_type": "stream",
     "text": [
      "\u001b[32m[I 2022-04-11 21:31:18,512]\u001b[0m Trial 58 finished with value: 0.701388888888889 and parameters: {'num_job': 10, 'encoder_depth': 3, 'vqc_depth': 4, 'num_iter': 5, 'optimizer': 'COBYLA', 'feature_map': 'ZZFeatureMap', 'var_form': 'EfficientSU2', 'features': ['JetCentralEFrac', 'JetTrackR', 'JetMaxDRInCore']}. Best is trial 12 with value: 0.9166666666666667.\u001b[0m\n"
     ]
    },
    {
     "name": "stdout",
     "output_type": "stream",
     "text": [
      "\n",
      "   Return from subroutine COBYLA because the MAXFUN limit has been reached.\n",
      "\n",
      "   NFVALS =    3   F = 6.390330E-01    MAXCV = 0.000000E+00\n",
      "   X = 9.010948E-01   1.011584E+00   5.990125E-01  -6.622037E-01  -3.551639E-01\n",
      "       3.171647E-01  -4.854350E-01   1.096111E+00  -1.496225E+00  -5.232189E-01\n",
      "      -1.877708E-02   1.008426E+00   5.318554E-01   9.254432E-02   8.606661E-01\n",
      "      -1.478207E+00   5.303858E-01  -8.663213E-02  -1.868363E-01   3.011901E+00\n",
      "       1.999047E-01  -2.405161E-01  -2.003161E+00   7.142527E-01\n"
     ]
    },
    {
     "name": "stderr",
     "output_type": "stream",
     "text": [
      "\u001b[32m[I 2022-04-11 21:31:23,812]\u001b[0m Trial 59 finished with value: 0.5902777777777778 and parameters: {'num_job': 16, 'encoder_depth': 4, 'vqc_depth': 3, 'num_iter': 3, 'optimizer': 'COBYLA', 'feature_map': 'ZZFeatureMap', 'var_form': 'EfficientSU2', 'features': ['JetLeadingTrackFracP', 'JetLeadingTrackD0', 'JetTrackMass']}. Best is trial 12 with value: 0.9166666666666667.\u001b[0m\n"
     ]
    },
    {
     "name": "stdout",
     "output_type": "stream",
     "text": [
      "\n",
      "   Return from subroutine COBYLA because the MAXFUN limit has been reached.\n",
      "\n",
      "   NFVALS =    4   F = 7.077352E-01    MAXCV = 0.000000E+00\n",
      "   X = 1.258832E+00   1.238389E+00  -6.546733E-01  -2.934361E-03   1.217277E+00\n",
      "      -6.547977E-01   8.872555E-01   4.210053E-02  -7.827665E-01  -1.008354E+00\n",
      "      -1.766589E-02  -6.161296E-01  -1.578798E+00  -6.286734E-01   9.132397E-02\n",
      "       1.128894E+00  -5.796316E-01   8.849179E-01  -2.315465E-01  -3.876313E-01\n",
      "       9.464082E-01  -2.584120E-01  -3.964760E-01   1.064591E+00   1.993960E+00\n",
      "      -5.187237E-01   2.038964E-01   1.057048E+00  -6.073092E-01  -1.698585E+00\n",
      "      -2.146541E-01   4.122689E-01   1.081819E+00   9.822598E-01  -6.931673E-01\n",
      "       1.372500E+00\n"
     ]
    },
    {
     "name": "stderr",
     "output_type": "stream",
     "text": [
      "\u001b[32m[I 2022-04-11 21:31:30,191]\u001b[0m Trial 60 finished with value: 0.513888888888889 and parameters: {'num_job': 18, 'encoder_depth': 3, 'vqc_depth': 5, 'num_iter': 4, 'optimizer': 'COBYLA', 'feature_map': 'ZZFeatureMap', 'var_form': 'EfficientSU2', 'features': ['JetCentralEFrac', 'JetLeadingTrackFracP', 'JetTrackR']}. Best is trial 12 with value: 0.9166666666666667.\u001b[0m\n"
     ]
    },
    {
     "name": "stdout",
     "output_type": "stream",
     "text": [
      "\n",
      "   Return from subroutine COBYLA because the MAXFUN limit has been reached.\n",
      "\n",
      "   NFVALS =    2   F = 6.962221E-01    MAXCV = 0.000000E+00\n",
      "   X = 3.502593E-01   2.128703E-01  -9.303291E-01   7.656657E-01  -2.422234E-01\n",
      "       9.774102E-01  -9.637390E-01   1.195692E-02   1.294306E+00  -7.251274E-02\n",
      "       1.556765E+00   1.157717E-01   1.380498E+00  -1.832502E+00  -4.508181E-01\n",
      "       2.273342E-01  -4.506743E-01   7.329597E-01\n",
      "   NFVALS =    2   F = 6.962221E-01    MAXCV = 0.000000E+00\n",
      "   X = 3.502593E-01   2.128703E-01  -9.303291E-01   7.656657E-01  -2.422234E-01\n",
      "       9.774102E-01  -9.637390E-01   1.195692E-02   1.294306E+00  -7.251274E-02\n",
      "       1.556765E+00   1.157717E-01   1.380498E+00  -1.832502E+00  -4.508181E-01\n",
      "       2.273342E-01  -4.506743E-01   7.329597E-01\n"
     ]
    },
    {
     "name": "stderr",
     "output_type": "stream",
     "text": [
      "\u001b[32m[I 2022-04-11 21:31:33,743]\u001b[0m Trial 61 finished with value: 0.4722222222222222 and parameters: {'num_job': 44, 'encoder_depth': 1, 'vqc_depth': 2, 'num_iter': 2, 'optimizer': 'COBYLA', 'feature_map': 'ZZFeatureMap', 'var_form': 'EfficientSU2', 'features': ['JetLeadingTrackFracP', 'JetMaxDRInCore', 'JetTrackMass']}. Best is trial 12 with value: 0.9166666666666667.\u001b[0m\n"
     ]
    },
    {
     "name": "stdout",
     "output_type": "stream",
     "text": [
      "\n",
      "   Return from subroutine COBYLA because the MAXFUN limit has been reached.\n",
      "\n",
      "   NFVALS =    2   F = 7.686555E-01    MAXCV = 0.000000E+00\n",
      "   X = 1.305560E+00   7.165413E-01  -1.062647E+00  -4.609511E-01  -1.132520E-01\n",
      "       1.725799E+00   4.111442E-01  -1.638073E-02  -6.330731E-01   5.293704E-01\n",
      "       1.393346E+00   1.976346E-01  -2.037848E-02  -7.929580E-01  -6.041023E-01\n",
      "       7.340153E-01  -1.929029E+00  -8.414708E-01\n"
     ]
    },
    {
     "name": "stderr",
     "output_type": "stream",
     "text": [
      "\u001b[32m[I 2022-04-11 21:31:36,721]\u001b[0m Trial 62 finished with value: 0.7986111111111112 and parameters: {'num_job': 41, 'encoder_depth': 1, 'vqc_depth': 2, 'num_iter': 2, 'optimizer': 'COBYLA', 'feature_map': 'ZZFeatureMap', 'var_form': 'EfficientSU2', 'features': ['JetLeadingTrackFracP', 'JetMaxDRInCore', 'JetTrackMass']}. Best is trial 12 with value: 0.9166666666666667.\u001b[0m\n"
     ]
    },
    {
     "name": "stdout",
     "output_type": "stream",
     "text": [
      "\n",
      "   Return from subroutine COBYLA because the MAXFUN limit has been reached.\n",
      "\n",
      "   NFVALS =    2   F = 7.067948E-01    MAXCV = 0.000000E+00\n",
      "   X = 2.807523E-01  -1.465990E+00   3.875170E-01   1.646058E+00   4.372381E-02\n",
      "       1.193846E+00  -1.089827E+00  -1.170824E+00   5.069768E-02   2.917023E-01\n",
      "      -1.064221E-01  -1.108668E+00\n"
     ]
    },
    {
     "name": "stderr",
     "output_type": "stream",
     "text": [
      "\u001b[32m[I 2022-04-11 21:31:39,727]\u001b[0m Trial 63 finished with value: 0.1875 and parameters: {'num_job': 38, 'encoder_depth': 1, 'vqc_depth': 1, 'num_iter': 2, 'optimizer': 'COBYLA', 'feature_map': 'ZZFeatureMap', 'var_form': 'EfficientSU2', 'features': ['JetCentralEFrac', 'JetTrackR', 'JetLeadingTrackD0']}. Best is trial 12 with value: 0.9166666666666667.\u001b[0m\n"
     ]
    },
    {
     "name": "stdout",
     "output_type": "stream",
     "text": [
      "\n",
      "   Return from subroutine COBYLA because the MAXFUN limit has been reached.\n",
      "\n",
      "   NFVALS =    2   F = 6.173047E-01    MAXCV = 0.000000E+00\n",
      "   X = 1.577695E+00  -2.095273E+00  -6.849011E-01   1.996060E-01   1.198607E+00\n",
      "       9.922200E-02  -7.291247E-01  -1.826956E-01   1.744721E+00   1.666586E+00\n",
      "       1.698460E-03   1.180151E+00   1.731622E-01  -3.291976E-01   8.073214E-02\n",
      "       2.131785E+00  -5.436734E-01   1.076249E+00\n"
     ]
    },
    {
     "name": "stderr",
     "output_type": "stream",
     "text": [
      "\u001b[32m[I 2022-04-11 21:31:43,071]\u001b[0m Trial 64 finished with value: 0.6180555555555555 and parameters: {'num_job': 25, 'encoder_depth': 1, 'vqc_depth': 2, 'num_iter': 2, 'optimizer': 'COBYLA', 'feature_map': 'ZZFeatureMap', 'var_form': 'EfficientSU2', 'features': ['JetCentralEFrac', 'JetTrackR', 'JetNumISOTracks']}. Best is trial 12 with value: 0.9166666666666667.\u001b[0m\n"
     ]
    },
    {
     "name": "stdout",
     "output_type": "stream",
     "text": [
      "\n",
      "   Return from subroutine COBYLA because the MAXFUN limit has been reached.\n",
      "\n",
      "   NFVALS =    1   F = 8.387863E-01    MAXCV = 0.000000E+00\n",
      "   X =-9.194362E-01  -3.862549E-02   2.608616E-01  -1.559965E+00   6.970970E-02\n",
      "       7.549130E-01   6.814256E-01   1.803926E+00  -7.450938E-01  -2.484426E-01\n",
      "       4.779051E-01  -3.495154E-01   6.584595E-01   1.349275E+00  -5.712940E-01\n",
      "       8.193829E-01   5.258071E-01   7.337779E-01   5.681678E-01   4.977537E-01\n",
      "      -1.251063E+00   3.247076E-01  -1.197112E+00   3.408987E-03\n"
     ]
    },
    {
     "name": "stderr",
     "output_type": "stream",
     "text": [
      "\u001b[32m[I 2022-04-11 21:31:46,214]\u001b[0m Trial 65 finished with value: 0.23611111111111116 and parameters: {'num_job': 45, 'encoder_depth': 2, 'vqc_depth': 3, 'num_iter': 1, 'optimizer': 'COBYLA', 'feature_map': 'ZZFeatureMap', 'var_form': 'EfficientSU2', 'features': ['JetCentralEFrac', 'JetMaxDRInCore', 'JetLeadingTrackD0']}. Best is trial 12 with value: 0.9166666666666667.\u001b[0m\n"
     ]
    },
    {
     "name": "stdout",
     "output_type": "stream",
     "text": [
      "\n",
      "   Return from subroutine COBYLA because the MAXFUN limit has been reached.\n",
      "\n",
      "   NFVALS =    2   F = 6.809593E-01    MAXCV = 0.000000E+00\n",
      "   X =-2.909169E-01  -1.129464E-01  -2.274821E+00  -6.491248E-02  -1.330506E+00\n",
      "      -1.991034E+00  -8.313279E-01  -3.772567E-01   1.073983E+00  -2.237718E-01\n",
      "       2.084225E+00  -1.279521E+00\n"
     ]
    },
    {
     "name": "stderr",
     "output_type": "stream",
     "text": [
      "\u001b[32m[I 2022-04-11 21:31:49,295]\u001b[0m Trial 66 finished with value: 0.7569444444444444 and parameters: {'num_job': 13, 'encoder_depth': 1, 'vqc_depth': 1, 'num_iter': 2, 'optimizer': 'COBYLA', 'feature_map': 'ZZFeatureMap', 'var_form': 'EfficientSU2', 'features': ['JetLeadingTrackFracP', 'JetNumISOTracks', 'JetTrackMass']}. Best is trial 12 with value: 0.9166666666666667.\u001b[0m\n"
     ]
    },
    {
     "name": "stdout",
     "output_type": "stream",
     "text": [
      "\n",
      "   Return from subroutine COBYLA because the MAXFUN limit has been reached.\n",
      "\n",
      "   NFVALS =    5   F = 6.832669E-01    MAXCV = 0.000000E+00\n",
      "   X =-1.018585E+00  -8.455357E-01   7.723236E-01   9.761247E-01  -1.171627E+00\n",
      "       5.504705E-01   5.188305E-01   9.375222E-01   2.701519E-01  -6.927306E-01\n",
      "      -1.176704E+00   7.861435E-01   2.085880E-01   1.317849E+00  -6.963646E-01\n",
      "      -1.452734E+00   1.273088E+00  -9.801505E-02   1.934890E+00  -2.406981E-01\n",
      "       4.342277E-01  -5.948055E-01  -6.330108E-01   1.347107E+00  -3.938223E-01\n",
      "      -2.341695E-01   3.607362E-01  -8.569153E-01   3.333936E-01  -6.909449E-01\n",
      "   NFVALS =    5   F = 6.832669E-01    MAXCV = 0.000000E+00\n",
      "   X =-1.018585E+00  -8.455357E-01   7.723236E-01   9.761247E-01  -1.171627E+00\n",
      "       5.504705E-01   5.188305E-01   9.375222E-01   2.701519E-01  -6.927306E-01\n",
      "      -1.176704E+00   7.861435E-01   2.085880E-01   1.317849E+00  -6.963646E-01\n",
      "      -1.452734E+00   1.273088E+00  -9.801505E-02   1.934890E+00  -2.406981E-01\n",
      "       4.342277E-01  -5.948055E-01  -6.330108E-01   1.347107E+00  -3.938223E-01\n",
      "      -2.341695E-01   3.607362E-01  -8.569153E-01   3.333936E-01  -6.909449E-01\n"
     ]
    },
    {
     "name": "stderr",
     "output_type": "stream",
     "text": [
      "\u001b[32m[I 2022-04-11 21:31:54,878]\u001b[0m Trial 67 finished with value: 0.7847222222222222 and parameters: {'num_job': 47, 'encoder_depth': 1, 'vqc_depth': 4, 'num_iter': 5, 'optimizer': 'COBYLA', 'feature_map': 'ZZFeatureMap', 'var_form': 'EfficientSU2', 'features': ['JetTrackR', 'JetMaxDRInCore', 'JetLeadingTrackD0']}. Best is trial 12 with value: 0.9166666666666667.\u001b[0m\n"
     ]
    },
    {
     "name": "stdout",
     "output_type": "stream",
     "text": [
      "\n",
      "   Return from subroutine COBYLA because the MAXFUN limit has been reached.\n",
      "\n",
      "   NFVALS =    2   F = 7.307196E-01    MAXCV = 0.000000E+00\n",
      "   X =-2.249442E-01   5.935213E-01   6.186316E-01  -1.364511E+00  -1.213667E+00\n",
      "      -1.370189E+00  -6.886826E-01   6.022887E-01   1.399798E+00   7.634904E-02\n",
      "      -1.329086E+00   1.265136E-01   9.771925E-01   4.187257E-01   5.228235E-01\n",
      "       8.520085E-01  -9.535127E-01  -4.462325E-01   1.993985E+00   3.759333E-01\n",
      "      -4.076095E-01   1.519059E+00  -4.564101E-01  -3.331606E-01\n",
      "   NFVALS =    2   F = 7.307196E-01    MAXCV = 0.000000E+00\n",
      "   X =-2.249442E-01   5.935213E-01   6.186316E-01  -1.364511E+00  -1.213667E+00\n",
      "      -1.370189E+00  -6.886826E-01   6.022887E-01   1.399798E+00   7.634904E-02\n",
      "      -1.329086E+00   1.265136E-01   9.771925E-01   4.187257E-01   5.228235E-01\n",
      "       8.520085E-01  -9.535127E-01  -4.462325E-01   1.993985E+00   3.759333E-01\n",
      "      -4.076095E-01   1.519059E+00  -4.564101E-01  -3.331606E-01\n"
     ]
    },
    {
     "name": "stderr",
     "output_type": "stream",
     "text": [
      "\u001b[32m[I 2022-04-11 21:31:58,717]\u001b[0m Trial 68 finished with value: 0.44791666666666674 and parameters: {'num_job': 50, 'encoder_depth': 2, 'vqc_depth': 3, 'num_iter': 2, 'optimizer': 'COBYLA', 'feature_map': 'ZZFeatureMap', 'var_form': 'EfficientSU2', 'features': ['JetTrackR', 'JetLeadingTrackD0', 'JetTrackMass']}. Best is trial 12 with value: 0.9166666666666667.\u001b[0m\n"
     ]
    },
    {
     "name": "stdout",
     "output_type": "stream",
     "text": [
      "\n",
      "   Return from subroutine COBYLA because the MAXFUN limit has been reached.\n",
      "\n",
      "   NFVALS =    5   F = 7.077573E-01    MAXCV = 0.000000E+00\n",
      "   X =-1.217141E-01   1.138343E+00  -5.523225E-03   9.351720E-01  -9.892724E-01\n",
      "       9.712306E-01  -1.383755E+00  -1.496253E+00  -2.507793E-01  -2.186732E-01\n",
      "       1.432206E+00  -1.006776E+00  -6.491171E-01  -1.161530E+00   8.082474E-01\n",
      "       2.416481E-01   1.319092E+00  -1.185922E+00   1.548237E+00   8.029453E-01\n",
      "       4.188572E-02   1.301164E+00  -9.030733E-01  -9.098944E-01\n"
     ]
    },
    {
     "name": "stderr",
     "output_type": "stream",
     "text": [
      "\u001b[32m[I 2022-04-11 21:32:05,306]\u001b[0m Trial 69 finished with value: 0.47916666666666663 and parameters: {'num_job': 22, 'encoder_depth': 4, 'vqc_depth': 3, 'num_iter': 5, 'optimizer': 'COBYLA', 'feature_map': 'ZZFeatureMap', 'var_form': 'EfficientSU2', 'features': ['JetTrackR', 'JetNumISOTracks', 'JetLeadingTrackD0']}. Best is trial 12 with value: 0.9166666666666667.\u001b[0m\n"
     ]
    },
    {
     "name": "stdout",
     "output_type": "stream",
     "text": [
      "\n",
      "   Return from subroutine COBYLA because the MAXFUN limit has been reached.\n",
      "\n",
      "   NFVALS =    4   F = 6.898472E-01    MAXCV = 0.000000E+00\n",
      "   X = 1.209032E+00  -2.427661E+00  -3.963105E-01   2.906597E-01  -3.485878E-01\n",
      "       7.326463E-01  -1.444330E+00  -1.368993E+00  -4.527931E-01   4.370856E-01\n",
      "       1.528209E+00  -6.820238E-01   8.794885E-01  -5.289012E-01  -1.031068E+00\n",
      "      -8.176093E-01   1.411462E-01  -1.116246E+00  -5.636856E-01   1.220823E+00\n",
      "       2.608350E-01  -1.001408E+00   1.582552E+00  -1.177984E-02   2.032053E+00\n",
      "       1.352179E+00   1.267119E-01   5.099329E-01  -5.055474E-01  -8.038031E-01\n"
     ]
    },
    {
     "name": "stderr",
     "output_type": "stream",
     "text": [
      "\u001b[32m[I 2022-04-11 21:32:10,815]\u001b[0m Trial 70 finished with value: 0.6388888888888888 and parameters: {'num_job': 48, 'encoder_depth': 3, 'vqc_depth': 4, 'num_iter': 4, 'optimizer': 'COBYLA', 'feature_map': 'ZZFeatureMap', 'var_form': 'EfficientSU2', 'features': ['JetTrackR', 'JetMaxDRInCore', 'JetNumISOTracks']}. Best is trial 12 with value: 0.9166666666666667.\u001b[0m\n"
     ]
    },
    {
     "name": "stdout",
     "output_type": "stream",
     "text": [
      "\n",
      "   Return from subroutine COBYLA because the MAXFUN limit has been reached.\n",
      "\n",
      "   NFVALS =    5   F = 7.825839E-01    MAXCV = 0.000000E+00\n",
      "   X =-1.430822E-01   3.054921E+00  -1.077270E+00  -1.168538E+00   1.220266E+00\n",
      "      -2.469213E-03  -4.676780E-01  -9.835746E-01  -1.219471E+00   2.778285E-01\n",
      "      -2.450651E-01  -4.405000E-01   4.635991E-01   4.003988E-01  -4.988978E-01\n",
      "      -8.613767E-01  -1.763774E-01   2.018222E+00   2.688239E-01  -1.463675E+00\n",
      "      -9.112470E-01  -5.273727E-01   1.227564E+00   9.299128E-01  -6.398542E-01\n",
      "      -7.059058E-01   8.132383E-01   1.216974E+00  -1.514526E-01   1.110078E+00\n",
      "   NFVALS =    5   F = 7.825839E-01    MAXCV = 0.000000E+00\n",
      "   X =-1.430822E-01   3.054921E+00  -1.077270E+00  -1.168538E+00   1.220266E+00\n",
      "      -2.469213E-03  -4.676780E-01  -9.835746E-01  -1.219471E+00   2.778285E-01\n",
      "      -2.450651E-01  -4.405000E-01   4.635991E-01   4.003988E-01  -4.988978E-01\n",
      "      -8.613767E-01  -1.763774E-01   2.018222E+00   2.688239E-01  -1.463675E+00\n",
      "      -9.112470E-01  -5.273727E-01   1.227564E+00   9.299128E-01  -6.398542E-01\n",
      "      -7.059058E-01   8.132383E-01   1.216974E+00  -1.514526E-01   1.110078E+00\n"
     ]
    },
    {
     "name": "stderr",
     "output_type": "stream",
     "text": [
      "\u001b[32m[I 2022-04-11 21:32:16,469]\u001b[0m Trial 71 finished with value: 0.23958333333333331 and parameters: {'num_job': 41, 'encoder_depth': 1, 'vqc_depth': 4, 'num_iter': 5, 'optimizer': 'COBYLA', 'feature_map': 'ZZFeatureMap', 'var_form': 'EfficientSU2', 'features': ['JetTrackR', 'JetMaxDRInCore', 'JetLeadingTrackD0']}. Best is trial 12 with value: 0.9166666666666667.\u001b[0m\n"
     ]
    },
    {
     "name": "stdout",
     "output_type": "stream",
     "text": [
      "\n",
      "   Return from subroutine COBYLA because the MAXFUN limit has been reached.\n",
      "\n",
      "   NFVALS =    5   F = 6.742259E-01    MAXCV = 0.000000E+00\n",
      "   X =-5.215741E-01   2.119993E+00   9.232582E-01   4.750615E-02  -1.508852E+00\n",
      "      -2.399206E-01  -3.158840E-01  -5.876640E-01   5.499621E-01  -2.193357E-01\n",
      "       3.981407E-01   1.002771E-01   2.296538E-01  -2.294953E-01   1.697490E+00\n",
      "       7.138955E-01   4.000595E-01   2.035011E+00   4.967285E-01  -1.490548E+00\n",
      "      -3.748622E-01   1.201690E+00  -3.071100E-01  -3.769535E-01  -1.138454E+00\n",
      "      -4.235930E-01  -2.774493E-01   1.285690E+00  -7.580974E-03   2.126867E-01\n"
     ]
    },
    {
     "name": "stderr",
     "output_type": "stream",
     "text": [
      "\u001b[32m[I 2022-04-11 21:32:22,853]\u001b[0m Trial 72 finished with value: 0.7395833333333335 and parameters: {'num_job': 47, 'encoder_depth': 1, 'vqc_depth': 4, 'num_iter': 5, 'optimizer': 'COBYLA', 'feature_map': 'ZZFeatureMap', 'var_form': 'EfficientSU2', 'features': ['JetTrackR', 'JetMaxDRInCore', 'JetLeadingTrackD0']}. Best is trial 12 with value: 0.9166666666666667.\u001b[0m\n"
     ]
    },
    {
     "name": "stdout",
     "output_type": "stream",
     "text": [
      "\n",
      "   Return from subroutine COBYLA because the MAXFUN limit has been reached.\n",
      "\n",
      "   NFVALS =    5   F = 7.006660E-01    MAXCV = 0.000000E+00\n",
      "   X = 1.573823E+00   6.445270E-01  -5.238410E-02   2.107227E-01  -5.962247E-01\n",
      "      -1.026525E+00  -4.796331E-01  -3.779234E-04   4.819428E-01  -3.103342E-01\n",
      "      -2.635313E-01   1.962727E-02   1.195182E+00   7.550566E-01   4.066300E-01\n",
      "       8.611348E-02   1.106247E+00  -5.368629E-01  -3.405783E-01  -7.038987E-01\n",
      "      -1.478277E-01   1.339517E+00  -1.279780E+00   3.617782E-01   2.192833E-01\n",
      "      -3.469730E-02   2.625878E+00  -1.602408E-01   7.588254E-01  -4.081736E-01\n"
     ]
    },
    {
     "name": "stderr",
     "output_type": "stream",
     "text": [
      "\u001b[32m[I 2022-04-11 21:32:28,617]\u001b[0m Trial 73 finished with value: 0.3888888888888889 and parameters: {'num_job': 41, 'encoder_depth': 1, 'vqc_depth': 4, 'num_iter': 5, 'optimizer': 'COBYLA', 'feature_map': 'ZZFeatureMap', 'var_form': 'EfficientSU2', 'features': ['JetTrackR', 'JetMaxDRInCore', 'JetTrackMass']}. Best is trial 12 with value: 0.9166666666666667.\u001b[0m\n"
     ]
    },
    {
     "name": "stdout",
     "output_type": "stream",
     "text": [
      "\n",
      "   Return from subroutine COBYLA because the MAXFUN limit has been reached.\n",
      "\n",
      "   NFVALS =    5   F = 6.902062E-01    MAXCV = 0.000000E+00\n",
      "   X =-1.758306E-01   2.258340E-01  -6.362319E-01  -1.816830E-01   4.844325E-01\n",
      "      -1.181999E+00   8.481120E-02  -1.354644E+00  -1.920635E-01  -1.968001E-01\n",
      "       5.839237E-02   1.165322E+00   2.298418E-01  -8.782238E-01  -3.349917E-01\n",
      "       1.949978E-01  -3.838830E-01   1.615410E+00  -8.793334E-01   4.001570E-01\n",
      "       5.982762E-01  -2.899036E-01  -1.055053E+00   8.270557E-01   1.742304E-01\n",
      "       1.324443E+00   1.451736E-01   9.927437E-02  -6.053279E-01   2.799160E+00\n",
      "   NFVALS =    5   F = 6.902062E-01    MAXCV = 0.000000E+00\n",
      "   X =-1.758306E-01   2.258340E-01  -6.362319E-01  -1.816830E-01   4.844325E-01\n",
      "      -1.181999E+00   8.481120E-02  -1.354644E+00  -1.920635E-01  -1.968001E-01\n",
      "       5.839237E-02   1.165322E+00   2.298418E-01  -8.782238E-01  -3.349917E-01\n",
      "       1.949978E-01  -3.838830E-01   1.615410E+00  -8.793334E-01   4.001570E-01\n",
      "       5.982762E-01  -2.899036E-01  -1.055053E+00   8.270557E-01   1.742304E-01\n",
      "       1.324443E+00   1.451736E-01   9.927437E-02  -6.053279E-01   2.799160E+00\n"
     ]
    },
    {
     "name": "stderr",
     "output_type": "stream",
     "text": [
      "\u001b[32m[I 2022-04-11 21:32:35,241]\u001b[0m Trial 74 finished with value: 0.6319444444444444 and parameters: {'num_job': 36, 'encoder_depth': 1, 'vqc_depth': 4, 'num_iter': 5, 'optimizer': 'COBYLA', 'feature_map': 'ZZFeatureMap', 'var_form': 'EfficientSU2', 'features': ['JetCentralEFrac', 'JetTrackR', 'JetMaxDRInCore']}. Best is trial 12 with value: 0.9166666666666667.\u001b[0m\n"
     ]
    },
    {
     "name": "stdout",
     "output_type": "stream",
     "text": [
      "\n",
      "   Return from subroutine COBYLA because the MAXFUN limit has been reached.\n",
      "\n",
      "   NFVALS =    5   F = 6.728958E-01    MAXCV = 0.000000E+00\n",
      "   X = 1.494369E+00   2.121579E+00   8.087245E-01  -2.420372E-01   2.467329E+00\n",
      "       5.323388E-01   2.034078E-01   4.984132E-01  -6.600994E-01  -3.680315E-02\n",
      "       6.648488E-01   5.120898E-01  -1.152171E-01   3.145452E-01  -9.048715E-01\n",
      "       1.452783E+00  -1.844005E+00   9.566074E-01   8.204819E-01  -6.634577E-01\n",
      "       3.365549E-02  -8.330972E-01  -5.210237E-01  -2.030932E-01  -9.350258E-01\n",
      "       1.083516E+00   8.867588E-01   1.013034E-01  -1.814410E-01   1.695599E-01\n",
      "       5.323388E-01   2.034078E-01   4.984132E-01  -6.600994E-01  -3.680315E-02\n",
      "       6.648488E-01   5.120898E-01  -1.152171E-01   3.145452E-01  -9.048715E-01\n",
      "       1.452783E+00  -1.844005E+00   9.566074E-01   8.204819E-01  -6.634577E-01\n",
      "       3.365549E-02  -8.330972E-01  -5.210237E-01  -2.030932E-01  -9.350258E-01\n",
      "       1.083516E+00   8.867588E-01   1.013034E-01  -1.814410E-01   1.695599E-01\n"
     ]
    },
    {
     "name": "stderr",
     "output_type": "stream",
     "text": [
      "\u001b[32m[I 2022-04-11 21:32:40,720]\u001b[0m Trial 75 finished with value: 0.6041666666666667 and parameters: {'num_job': 42, 'encoder_depth': 1, 'vqc_depth': 4, 'num_iter': 5, 'optimizer': 'COBYLA', 'feature_map': 'ZZFeatureMap', 'var_form': 'EfficientSU2', 'features': ['JetMaxDRInCore', 'JetNumISOTracks', 'JetLeadingTrackD0']}. Best is trial 12 with value: 0.9166666666666667.\u001b[0m\n"
     ]
    },
    {
     "name": "stdout",
     "output_type": "stream",
     "text": [
      "\n",
      "   Return from subroutine COBYLA because the MAXFUN limit has been reached.\n",
      "\n",
      "   NFVALS =    2   F = 8.849931E-01    MAXCV = 0.000000E+00\n",
      "   X = 1.481335E+00  -4.776385E-01   5.849943E-01  -1.059316E+00  -1.550782E-01\n",
      "       1.727598E+00   1.417878E+00  -1.224075E-01   3.763732E-01  -4.032033E-01\n",
      "       9.098073E-01  -6.811584E-01  -1.645744E+00   1.741439E-02  -2.834543E-02\n",
      "      -5.847780E-01  -3.339181E-01  -1.231787E+00\n"
     ]
    },
    {
     "name": "stderr",
     "output_type": "stream",
     "text": [
      "\u001b[32m[I 2022-04-11 21:32:44,957]\u001b[0m Trial 76 finished with value: 0.2638888888888889 and parameters: {'num_job': 11, 'encoder_depth': 5, 'vqc_depth': 2, 'num_iter': 2, 'optimizer': 'COBYLA', 'feature_map': 'ZZFeatureMap', 'var_form': 'EfficientSU2', 'features': ['JetCentralEFrac', 'JetLeadingTrackD0', 'JetTrackMass']}. Best is trial 12 with value: 0.9166666666666667.\u001b[0m\n"
     ]
    },
    {
     "name": "stdout",
     "output_type": "stream",
     "text": [
      "\n",
      "   Return from subroutine COBYLA because the MAXFUN limit has been reached.\n",
      "\n",
      "   NFVALS =    5   F = 7.404563E-01    MAXCV = 0.000000E+00\n",
      "   X = 1.632930E+00  -1.043990E+00  -5.747873E-03   6.912069E-01   2.022204E-01\n",
      "      -4.240330E-01   1.090626E+00  -5.217999E-01  -1.166390E+00   2.021657E+00\n",
      "      -9.565965E-01   9.480247E-01   1.326798E+00   9.179552E-01   1.241079E-02\n",
      "       9.563309E-01   2.051955E+00   1.196262E+00   4.142659E-01  -3.874323E-01\n",
      "       4.553808E-01   1.693717E+00   2.906643E-01  -8.140875E-03\n",
      "   NFVALS =    5   F = 7.404563E-01    MAXCV = 0.000000E+00\n",
      "   X = 1.632930E+00  -1.043990E+00  -5.747873E-03   6.912069E-01   2.022204E-01\n",
      "      -4.240330E-01   1.090626E+00  -5.217999E-01  -1.166390E+00   2.021657E+00\n",
      "      -9.565965E-01   9.480247E-01   1.326798E+00   9.179552E-01   1.241079E-02\n",
      "       9.563309E-01   2.051955E+00   1.196262E+00   4.142659E-01  -3.874323E-01\n",
      "       4.553808E-01   1.693717E+00   2.906643E-01  -8.140875E-03\n"
     ]
    },
    {
     "name": "stderr",
     "output_type": "stream",
     "text": [
      "\u001b[32m[I 2022-04-11 21:32:51,214]\u001b[0m Trial 77 finished with value: 0.6215277777777778 and parameters: {'num_job': 39, 'encoder_depth': 1, 'vqc_depth': 3, 'num_iter': 5, 'optimizer': 'COBYLA', 'feature_map': 'ZZFeatureMap', 'var_form': 'EfficientSU2', 'features': ['JetNumISOTracks', 'JetLeadingTrackD0', 'JetTrackMass']}. Best is trial 12 with value: 0.9166666666666667.\u001b[0m\n"
     ]
    },
    {
     "name": "stdout",
     "output_type": "stream",
     "text": [
      "\n",
      "   Return from subroutine COBYLA because the MAXFUN limit has been reached.\n",
      "\n",
      "   NFVALS =    3   F = 6.757805E-01    MAXCV = 0.000000E+00\n",
      "   X = 8.951578E-01   1.820823E+00  -1.044850E-01  -2.268248E+00  -1.149492E+00\n",
      "       4.450876E-01   1.115766E+00   6.033203E-01  -6.702152E-01  -8.418616E-01\n",
      "      -1.636384E+00   2.116888E+00  -8.136287E-01  -1.348784E+00   6.756002E-01\n",
      "       6.188648E-01  -1.052885E+00  -1.321548E+00  -7.531079E-01  -1.468094E+00\n",
      "       2.074513E+00  -7.181113E-01   1.433815E+00  -8.561400E-01  -1.940253E-01\n",
      "       9.455829E-01   1.353083E+00  -1.114969E+00\n"
     ]
    },
    {
     "name": "stderr",
     "output_type": "stream",
     "text": [
      "\u001b[32m[I 2022-04-11 21:32:58,980]\u001b[0m Trial 78 finished with value: 0.42361111111111116 and parameters: {'num_job': 29, 'encoder_depth': 1, 'vqc_depth': 1, 'num_iter': 3, 'optimizer': 'COBYLA', 'feature_map': 'ZZFeatureMap', 'var_form': 'EfficientSU2', 'features': ['JetCentralEFrac', 'JetLeadingTrackFracP', 'JetTrackR', 'JetMaxDRInCore', 'JetNumISOTracks', 'JetLeadingTrackD0', 'JetTrackMass']}. Best is trial 12 with value: 0.9166666666666667.\u001b[0m\n"
     ]
    },
    {
     "name": "stdout",
     "output_type": "stream",
     "text": [
      "\n",
      "   Return from subroutine COBYLA because the MAXFUN limit has been reached.\n",
      "\n",
      "   NFVALS =    4   F = 7.817212E-01    MAXCV = 0.000000E+00\n",
      "   X = 3.498770E+00   6.793273E-01   1.764597E+00   4.325068E-03   1.330568E+00\n",
      "      -1.416414E+00   6.618105E-01  -1.094849E+00   7.086807E-01   1.001449E+00\n",
      "       3.447165E-01   7.973682E-01  -7.653805E-01  -5.593660E-01   4.649005E-01\n",
      "       1.734579E+00  -5.019338E-01   2.168283E+00  -1.434146E+00   1.118123E+00\n",
      "      -7.187110E-01   2.549769E-02  -1.262892E-01  -4.760474E-02   6.923772E-03\n",
      "       9.177440E-01   1.931316E-01   8.367360E-01  -7.562083E-01  -4.759102E-01\n",
      "       2.834421E-02  -1.003166E+00  -7.504630E-01  -1.017333E+00  -4.282427E-01\n",
      "      -8.439821E-02\n"
     ]
    },
    {
     "name": "stderr",
     "output_type": "stream",
     "text": [
      "\u001b[32m[I 2022-04-11 21:33:04,494]\u001b[0m Trial 79 finished with value: 0.3472222222222222 and parameters: {'num_job': 11, 'encoder_depth': 2, 'vqc_depth': 5, 'num_iter': 4, 'optimizer': 'COBYLA', 'feature_map': 'ZZFeatureMap', 'var_form': 'EfficientSU2', 'features': ['JetLeadingTrackFracP', 'JetTrackR', 'JetMaxDRInCore']}. Best is trial 12 with value: 0.9166666666666667.\u001b[0m\n"
     ]
    },
    {
     "name": "stdout",
     "output_type": "stream",
     "text": [
      "\n",
      "   Return from subroutine COBYLA because the MAXFUN limit has been reached.\n",
      "\n",
      "   NFVALS =    1   F = 8.097873E-01    MAXCV = 0.000000E+00\n",
      "   X = 2.892989E-01  -7.158025E-01  -8.670187E-02   7.638294E-01   1.126480E+00\n",
      "      -1.574271E+00  -3.250527E-01   1.621784E+00  -5.706477E-01  -9.531884E-01\n",
      "      -1.059074E+00   1.517485E+00  -2.898319E-01  -8.563387E-01  -3.610923E-01\n",
      "      -6.265196E-01   6.332115E-01  -3.636882E-02   8.757435E-01  -1.929929E+00\n",
      "       4.279842E-01  -6.493407E-01   4.933799E-01   5.824422E-01  -6.815060E-02\n",
      "       2.370485E+00   2.144156E-02  -5.252964E-01   3.736896E-01  -8.036226E-01\n"
     ]
    },
    {
     "name": "stderr",
     "output_type": "stream",
     "text": [
      "\u001b[32m[I 2022-04-11 21:33:08,082]\u001b[0m Trial 80 finished with value: 0.2569444444444444 and parameters: {'num_job': 15, 'encoder_depth': 4, 'vqc_depth': 4, 'num_iter': 1, 'optimizer': 'COBYLA', 'feature_map': 'ZZFeatureMap', 'var_form': 'EfficientSU2', 'features': ['JetCentralEFrac', 'JetMaxDRInCore', 'JetTrackMass']}. Best is trial 12 with value: 0.9166666666666667.\u001b[0m\n"
     ]
    },
    {
     "name": "stdout",
     "output_type": "stream",
     "text": [
      "\n",
      "   Return from subroutine COBYLA because the MAXFUN limit has been reached.\n",
      "\n",
      "   NFVALS =    2   F = 7.347655E-01    MAXCV = 0.000000E+00\n",
      "   X =-6.060386E-01   1.469189E-01   1.774160E-01  -8.280859E-01   2.674608E-01\n",
      "      -9.000867E-01   5.156901E-01   1.376793E+00  -4.316113E-01  -5.633780E-01\n",
      "      -4.517913E-02  -9.669260E-01   1.936877E+00   2.879115E-01  -1.771045E-01\n",
      "      -2.327040E-01  -2.372147E-02  -2.431282E+00\n"
     ]
    },
    {
     "name": "stderr",
     "output_type": "stream",
     "text": [
      "\u001b[32m[I 2022-04-11 21:33:11,727]\u001b[0m Trial 81 finished with value: 0.35416666666666663 and parameters: {'num_job': 43, 'encoder_depth': 1, 'vqc_depth': 2, 'num_iter': 2, 'optimizer': 'COBYLA', 'feature_map': 'ZZFeatureMap', 'var_form': 'EfficientSU2', 'features': ['JetLeadingTrackFracP', 'JetMaxDRInCore', 'JetTrackMass']}. Best is trial 12 with value: 0.9166666666666667.\u001b[0m\n"
     ]
    },
    {
     "name": "stdout",
     "output_type": "stream",
     "text": [
      "\n",
      "   Return from subroutine COBYLA because the MAXFUN limit has been reached.\n",
      "\n",
      "   NFVALS =    2   F = 8.027533E-01    MAXCV = 0.000000E+00\n",
      "   X = 4.321215E-01   7.508623E-01  -1.911825E-01   6.071348E-02  -2.677717E-01\n",
      "      -2.220744E-01  -1.086797E-01  -8.277862E-01  -3.085954E+00   1.508576E+00\n",
      "      -3.961633E-01  -1.062453E+00   1.977125E-01  -1.455348E+00   7.132239E-01\n",
      "       1.361483E+00  -1.220552E+00   2.459316E-01\n"
     ]
    },
    {
     "name": "stderr",
     "output_type": "stream",
     "text": [
      "\u001b[32m[I 2022-04-11 21:33:14,910]\u001b[0m Trial 82 finished with value: 0.4027777777777778 and parameters: {'num_job': 46, 'encoder_depth': 1, 'vqc_depth': 2, 'num_iter': 2, 'optimizer': 'COBYLA', 'feature_map': 'ZZFeatureMap', 'var_form': 'EfficientSU2', 'features': ['JetLeadingTrackFracP', 'JetMaxDRInCore', 'JetTrackMass']}. Best is trial 12 with value: 0.9166666666666667.\u001b[0m\n"
     ]
    },
    {
     "name": "stdout",
     "output_type": "stream",
     "text": [
      "\n",
      "   Return from subroutine COBYLA because the MAXFUN limit has been reached.\n",
      "\n",
      "   NFVALS =    2   F = 8.026166E-01    MAXCV = 0.000000E+00\n",
      "   X = 2.141621E+00  -1.283365E+00   7.981242E-01   1.552897E+00   6.616599E-01\n",
      "       1.544189E+00   1.279780E+00  -1.353295E+00  -7.267846E-01   5.309188E-02\n",
      "      -2.473140E-01  -2.299475E+00\n"
     ]
    },
    {
     "name": "stderr",
     "output_type": "stream",
     "text": [
      "\u001b[32m[I 2022-04-11 21:33:17,930]\u001b[0m Trial 83 finished with value: 0.4340277777777778 and parameters: {'num_job': 49, 'encoder_depth': 1, 'vqc_depth': 1, 'num_iter': 2, 'optimizer': 'COBYLA', 'feature_map': 'ZZFeatureMap', 'var_form': 'EfficientSU2', 'features': ['JetLeadingTrackFracP', 'JetNumISOTracks', 'JetLeadingTrackD0']}. Best is trial 12 with value: 0.9166666666666667.\u001b[0m\n"
     ]
    },
    {
     "name": "stdout",
     "output_type": "stream",
     "text": [
      "\n",
      "   Return from subroutine COBYLA because the MAXFUN limit has been reached.\n",
      "\n",
      "   NFVALS =    2   F = 7.146705E-01    MAXCV = 0.000000E+00\n",
      "   X = 1.424368E-01   4.963711E-01   7.701210E-01  -1.210252E+00   7.469534E-01\n",
      "       7.175454E-01   8.873459E-01  -4.534959E-01   2.895221E-01   8.034126E-01\n",
      "      -6.300999E-01   4.373658E-02   1.273064E+00  -1.492288E-01   2.762325E-02\n",
      "       1.386675E+00   4.645182E-01  -9.587599E-01   5.623261E-01   1.441442E+00\n",
      "      -1.208850E+00  -6.390440E-02  -1.326471E+00  -1.857628E-01\n"
     ]
    },
    {
     "name": "stderr",
     "output_type": "stream",
     "text": [
      "\u001b[32m[I 2022-04-11 21:33:21,699]\u001b[0m Trial 84 finished with value: 0.7222222222222222 and parameters: {'num_job': 44, 'encoder_depth': 1, 'vqc_depth': 3, 'num_iter': 2, 'optimizer': 'COBYLA', 'feature_map': 'ZZFeatureMap', 'var_form': 'EfficientSU2', 'features': ['JetLeadingTrackFracP', 'JetMaxDRInCore', 'JetLeadingTrackD0']}. Best is trial 12 with value: 0.9166666666666667.\u001b[0m\n"
     ]
    },
    {
     "name": "stdout",
     "output_type": "stream",
     "text": [
      "\n",
      "   Return from subroutine COBYLA because the MAXFUN limit has been reached.\n",
      "\n",
      "   NFVALS =    2   F = 8.002132E-01    MAXCV = 0.000000E+00\n",
      "   X =-1.300004E+00   3.387627E-01   1.265228E+00   7.183360E-01  -7.894647E-01\n",
      "      -2.079821E+00   9.930182E-02  -3.345363E-01  -4.754327E-01  -7.695511E-01\n",
      "       1.556883E-02   3.000415E-01  -2.699925E-01   4.707413E-01   4.104248E-01\n",
      "       1.159961E-01   5.814237E-02   1.985234E+00  -2.833456E-01  -4.796246E-01\n",
      "       9.148892E-01  -1.189117E+00   1.758574E+00  -4.795689E-01\n"
     ]
    },
    {
     "name": "stderr",
     "output_type": "stream",
     "text": [
      "\u001b[32m[I 2022-04-11 21:33:26,271]\u001b[0m Trial 85 finished with value: 0.6111111111111112 and parameters: {'num_job': 46, 'encoder_depth': 1, 'vqc_depth': 3, 'num_iter': 2, 'optimizer': 'COBYLA', 'feature_map': 'ZZFeatureMap', 'var_form': 'EfficientSU2', 'features': ['JetLeadingTrackFracP', 'JetMaxDRInCore', 'JetTrackMass']}. Best is trial 12 with value: 0.9166666666666667.\u001b[0m\n"
     ]
    },
    {
     "name": "stdout",
     "output_type": "stream",
     "text": [
      "\n",
      "   Return from subroutine COBYLA because the MAXFUN limit has been reached.\n",
      "\n",
      "   NFVALS =    2   F = 7.305023E-01    MAXCV = 0.000000E+00\n",
      "   X = 1.274718E+00   4.286855E-01  -9.093543E-01  -1.030845E+00  -1.327351E+00\n",
      "       1.078984E+00  -5.761579E-01  -1.558681E+00   3.864478E-02   7.231539E-01\n",
      "       4.114379E-01   1.372169E+00   4.164519E-01   3.454964E-01  -5.092408E-01\n",
      "      -1.175275E-01   6.714047E-01  -2.882031E-01\n"
     ]
    },
    {
     "name": "stderr",
     "output_type": "stream",
     "text": [
      "\u001b[32m[I 2022-04-11 21:33:31,425]\u001b[0m Trial 86 finished with value: 0.5555555555555556 and parameters: {'num_job': 13, 'encoder_depth': 5, 'vqc_depth': 2, 'num_iter': 2, 'optimizer': 'COBYLA', 'feature_map': 'ZZFeatureMap', 'var_form': 'EfficientSU2', 'features': ['JetLeadingTrackFracP', 'JetMaxDRInCore', 'JetNumISOTracks']}. Best is trial 12 with value: 0.9166666666666667.\u001b[0m\n"
     ]
    },
    {
     "name": "stdout",
     "output_type": "stream",
     "text": [
      "\n",
      "   Return from subroutine COBYLA because the MAXFUN limit has been reached.\n",
      "\n",
      "   NFVALS =    5   F = 7.060082E-01    MAXCV = 0.000000E+00\n",
      "   X = 7.171485E-01   9.092020E-02  -7.852092E-01   1.045722E+00   6.255986E-01\n",
      "      -3.518050E-01   7.210216E-01  -2.046025E+00  -8.360140E-01   1.330397E+00\n",
      "       1.960231E-01  -1.511253E+00  -2.000405E-01   1.540000E+00  -3.463257E-02\n",
      "      -1.061560E+00   1.734740E-01  -1.731824E+00   6.356483E-01  -8.734697E-01\n",
      "      -1.574991E+00  -1.443883E+00   1.360122E+00  -2.668379E-01  -4.616444E-01\n",
      "       5.990152E-01   6.873418E-01  -1.188305E+00  -3.724138E-01  -1.235309E+00\n"
     ]
    },
    {
     "name": "stderr",
     "output_type": "stream",
     "text": [
      "\u001b[32m[I 2022-04-11 21:33:36,704]\u001b[0m Trial 87 finished with value: 0.798611111111111 and parameters: {'num_job': 48, 'encoder_depth': 1, 'vqc_depth': 4, 'num_iter': 5, 'optimizer': 'COBYLA', 'feature_map': 'ZZFeatureMap', 'var_form': 'EfficientSU2', 'features': ['JetLeadingTrackFracP', 'JetTrackR', 'JetLeadingTrackD0']}. Best is trial 12 with value: 0.9166666666666667.\u001b[0m\n"
     ]
    },
    {
     "name": "stdout",
     "output_type": "stream",
     "text": [
      "\n",
      "   Return from subroutine COBYLA because the MAXFUN limit has been reached.\n",
      "\n",
      "   NFVALS =    5   F = 6.649952E-01    MAXCV = 0.000000E+00\n",
      "   X = 1.046269E+00  -4.952213E-02   4.331917E-01   2.564442E-01   3.321015E-02\n",
      "       1.713675E+00  -4.791133E-01   1.697635E+00  -9.486081E-01   1.039888E+00\n",
      "       1.183097E+00  -1.872608E-01   1.551582E-01   1.070533E+00   2.491922E+00\n",
      "       1.184101E+00   1.680286E+00   3.729630E-01  -4.706189E-01  -1.639163E+00\n",
      "      -1.105866E+00   1.515678E+00  -9.082695E-01   9.088226E-01   1.000626E+00\n",
      "      -2.601837E-01   8.179958E-01  -6.116689E-01  -4.919690E-02  -7.650931E-01\n"
     ]
    },
    {
     "name": "stderr",
     "output_type": "stream",
     "text": [
      "\u001b[32m[I 2022-04-11 21:33:43,325]\u001b[0m Trial 88 finished with value: 0.7569444444444444 and parameters: {'num_job': 48, 'encoder_depth': 2, 'vqc_depth': 4, 'num_iter': 5, 'optimizer': 'COBYLA', 'feature_map': 'ZZFeatureMap', 'var_form': 'EfficientSU2', 'features': ['JetLeadingTrackFracP', 'JetTrackR', 'JetLeadingTrackD0']}. Best is trial 12 with value: 0.9166666666666667.\u001b[0m\n"
     ]
    },
    {
     "name": "stdout",
     "output_type": "stream",
     "text": [
      "\n",
      "   Return from subroutine COBYLA because the MAXFUN limit has been reached.\n",
      "\n",
      "   NFVALS =    5   F = 6.984851E-01    MAXCV = 0.000000E+00\n",
      "   X =-6.134248E-02   2.791810E-01   1.096308E+00   1.453481E+00   9.652560E-02\n",
      "       1.171988E+00  -1.309301E-01  -1.254021E-01  -1.084447E+00   8.907705E-01\n",
      "      -1.157642E+00  -2.931255E-01   5.444162E-01  -8.852108E-01  -3.436813E+00\n",
      "       5.436327E-02   9.549903E-01  -1.848445E+00  -4.924114E-01   1.894829E+00\n",
      "      -5.593996E-01  -4.199476E-01  -9.730428E-01  -1.167345E+00   2.766633E-01\n",
      "       5.971291E-01   1.359112E+00   3.587217E-01  -2.015694E+00  -6.216803E-01\n"
     ]
    },
    {
     "name": "stderr",
     "output_type": "stream",
     "text": [
      "\u001b[32m[I 2022-04-11 21:33:51,260]\u001b[0m Trial 89 finished with value: 0.6944444444444444 and parameters: {'num_job': 21, 'encoder_depth': 5, 'vqc_depth': 4, 'num_iter': 5, 'optimizer': 'COBYLA', 'feature_map': 'ZZFeatureMap', 'var_form': 'EfficientSU2', 'features': ['JetLeadingTrackFracP', 'JetTrackR', 'JetLeadingTrackD0']}. Best is trial 12 with value: 0.9166666666666667.\u001b[0m\n"
     ]
    },
    {
     "name": "stdout",
     "output_type": "stream",
     "text": [
      "\n",
      "   Return from subroutine COBYLA because the MAXFUN limit has been reached.\n",
      "\n",
      "   NFVALS =    5   F = 6.439508E-01    MAXCV = 0.000000E+00\n",
      "   X =-2.059624E-02  -2.336096E-01  -2.493019E-01   1.293025E+00   2.031824E-01\n",
      "      -2.620619E-01   1.293958E+00  -2.296061E-01  -1.684101E+00   1.222216E+00\n",
      "       6.534929E-01   5.117958E-01  -3.321307E-02   3.170536E-01  -1.847546E+00\n",
      "       5.922458E-01  -1.668185E-01   1.753224E+00   1.462815E+00  -3.775028E-01\n",
      "       5.662420E-01  -3.534205E-02  -6.785739E-01  -5.589384E-01  -6.390141E-01\n",
      "       4.552991E-03  -3.423666E-01  -1.829391E+00  -6.620370E-01   7.207346E-01\n"
     ]
    },
    {
     "name": "stderr",
     "output_type": "stream",
     "text": [
      "\u001b[32m[I 2022-04-11 21:33:57,878]\u001b[0m Trial 90 finished with value: 0.45138888888888895 and parameters: {'num_job': 24, 'encoder_depth': 1, 'vqc_depth': 4, 'num_iter': 5, 'optimizer': 'COBYLA', 'feature_map': 'ZZFeatureMap', 'var_form': 'EfficientSU2', 'features': ['JetCentralEFrac', 'JetLeadingTrackFracP', 'JetLeadingTrackD0']}. Best is trial 12 with value: 0.9166666666666667.\u001b[0m\n"
     ]
    },
    {
     "name": "stdout",
     "output_type": "stream",
     "text": [
      "\n",
      "   Return from subroutine COBYLA because the MAXFUN limit has been reached.\n",
      "\n",
      "   NFVALS =    5   F = 6.465937E-01    MAXCV = 0.000000E+00\n",
      "   X =-1.551290E+00   8.938025E-02   2.211505E-01  -9.050984E-01   1.690178E+00\n",
      "      -1.403602E+00   1.525886E-01  -1.182045E+00   1.138545E+00   4.460763E-01\n",
      "       5.830284E-01  -2.260632E-02   1.864020E-01   1.313463E-01  -2.112075E-01\n",
      "       4.886576E-02  -2.011535E-01  -8.017732E-01   2.690748E+00  -1.008826E+00\n",
      "      -1.251956E+00   1.280632E-01   1.300307E+00   5.894898E-02   1.811269E+00\n",
      "      -1.145714E+00   1.432892E+00  -3.852905E-01  -2.884213E-01  -2.180212E-01\n"
     ]
    },
    {
     "name": "stderr",
     "output_type": "stream",
     "text": [
      "\u001b[32m[I 2022-04-11 21:34:03,853]\u001b[0m Trial 91 finished with value: 0.9027777777777778 and parameters: {'num_job': 47, 'encoder_depth': 1, 'vqc_depth': 4, 'num_iter': 5, 'optimizer': 'COBYLA', 'feature_map': 'ZZFeatureMap', 'var_form': 'EfficientSU2', 'features': ['JetMaxDRInCore', 'JetLeadingTrackD0', 'JetTrackMass']}. Best is trial 12 with value: 0.9166666666666667.\u001b[0m\n"
     ]
    },
    {
     "name": "stdout",
     "output_type": "stream",
     "text": [
      "\n",
      "   Return from subroutine COBYLA because the MAXFUN limit has been reached.\n",
      "\n",
      "   NFVALS =    5   F = 7.290891E-01    MAXCV = 0.000000E+00\n",
      "   X = 1.198600E+00  -8.080128E-01  -1.425656E+00   3.463906E-01  -1.207465E+00\n",
      "      -2.161092E-01  -4.230871E-01   4.801645E-01   4.131690E-01  -1.379426E+00\n",
      "      -1.497047E-01  -2.263825E-01  -4.813331E-01   7.096779E-01   8.551000E-02\n",
      "       1.033581E+00   2.123774E-02  -2.469296E-02  -5.101908E-01  -1.550668E+00\n",
      "       5.999469E-01  -1.297120E+00  -9.778127E-01   2.803914E-01   1.915010E+00\n",
      "      -4.997407E-01   3.291568E-01  -1.406529E+00   2.017696E+00   2.198100E+00\n"
     ]
    },
    {
     "name": "stderr",
     "output_type": "stream",
     "text": [
      "\u001b[32m[I 2022-04-11 21:34:09,394]\u001b[0m Trial 92 finished with value: 0.5694444444444444 and parameters: {'num_job': 49, 'encoder_depth': 1, 'vqc_depth': 4, 'num_iter': 5, 'optimizer': 'COBYLA', 'feature_map': 'ZZFeatureMap', 'var_form': 'EfficientSU2', 'features': ['JetLeadingTrackFracP', 'JetTrackR', 'JetTrackMass']}. Best is trial 12 with value: 0.9166666666666667.\u001b[0m\n"
     ]
    },
    {
     "name": "stdout",
     "output_type": "stream",
     "text": [
      "\n",
      "   Return from subroutine COBYLA because the MAXFUN limit has been reached.\n",
      "\n",
      "   NFVALS =    5   F = 6.775138E-01    MAXCV = 0.000000E+00\n",
      "   X =-5.024257E-01  -8.850999E-01  -5.696736E-01  -3.359765E-01  -6.565968E-01\n",
      "       5.877486E-01   3.461585E-01  -4.003551E-01   5.721535E-01   2.762692E+00\n",
      "      -8.310458E-02  -8.741045E-01   2.403194E+00  -1.296327E-01   1.385959E+00\n",
      "       4.197513E-01  -5.457325E-02  -2.335167E+00   1.755164E+00   3.021858E+00\n",
      "      -3.312599E-01  -1.595861E+00  -9.235587E-01  -9.889782E-01  -1.095135E+00\n",
      "      -1.385809E+00   3.312581E-01   7.953526E-01  -3.370900E-01  -1.535224E-01\n"
     ]
    },
    {
     "name": "stderr",
     "output_type": "stream",
     "text": [
      "\u001b[32m[I 2022-04-11 21:34:15,026]\u001b[0m Trial 93 finished with value: 0.6215277777777778 and parameters: {'num_job': 45, 'encoder_depth': 1, 'vqc_depth': 4, 'num_iter': 5, 'optimizer': 'COBYLA', 'feature_map': 'ZZFeatureMap', 'var_form': 'EfficientSU2', 'features': ['JetMaxDRInCore', 'JetLeadingTrackD0', 'JetTrackMass']}. Best is trial 12 with value: 0.9166666666666667.\u001b[0m\n"
     ]
    },
    {
     "name": "stdout",
     "output_type": "stream",
     "text": [
      "\n",
      "   Return from subroutine COBYLA because the MAXFUN limit has been reached.\n",
      "\n",
      "   NFVALS =    5   F = 6.788167E-01    MAXCV = 0.000000E+00\n",
      "   X = 1.433290E+00   6.475169E-03   2.338549E-01   8.154249E-01   2.245661E-01\n",
      "       4.204617E-01  -1.364066E+00   4.170736E-01   3.348443E-01  -1.927687E-01\n",
      "      -1.293720E+00  -1.668496E-01   6.028924E-01   1.205018E+00   1.190400E+00\n",
      "       8.104282E-01  -1.947698E-01   2.580248E-01  -1.382172E+00  -4.558081E-01\n",
      "       2.234568E-01   3.324160E-01  -8.300341E-01  -1.230047E-01  -4.683079E-01\n",
      "      -5.978222E-01   5.015860E-01   1.060016E+00   2.730899E-01  -1.187408E+00\n"
     ]
    },
    {
     "name": "stderr",
     "output_type": "stream",
     "text": [
      "\u001b[32m[I 2022-04-11 21:34:20,955]\u001b[0m Trial 94 finished with value: 0.5555555555555556 and parameters: {'num_job': 47, 'encoder_depth': 1, 'vqc_depth': 4, 'num_iter': 5, 'optimizer': 'COBYLA', 'feature_map': 'ZZFeatureMap', 'var_form': 'EfficientSU2', 'features': ['JetMaxDRInCore', 'JetLeadingTrackD0', 'JetTrackMass']}. Best is trial 12 with value: 0.9166666666666667.\u001b[0m\n"
     ]
    },
    {
     "name": "stdout",
     "output_type": "stream",
     "text": [
      "\n",
      "   Return from subroutine COBYLA because the MAXFUN limit has been reached.\n",
      "\n",
      "   NFVALS =    5   F = 6.391561E-01    MAXCV = 0.000000E+00\n",
      "   X = 8.237125E-01   4.620470E-01   3.463522E+00  -4.119157E-01   5.510169E-01\n",
      "      -1.187772E+00   2.358934E-01  -3.826781E-01  -5.910428E-01   8.040461E-01\n",
      "      -3.386357E-01  -5.339031E-01  -5.496185E-01   5.539412E-01  -3.281361E-01\n",
      "      -1.241014E+00  -8.631878E-01  -4.252472E-01   3.049911E-01  -5.391218E-01\n",
      "      -3.839727E-02   1.591966E+00   2.477317E-01   2.687647E-01   7.352579E-01\n",
      "       2.068160E+00  -4.478050E-01   3.117366E-02   1.408248E+00  -1.327617E+00\n"
     ]
    },
    {
     "name": "stderr",
     "output_type": "stream",
     "text": [
      "\u001b[32m[I 2022-04-11 21:34:26,549]\u001b[0m Trial 95 finished with value: 0.673611111111111 and parameters: {'num_job': 49, 'encoder_depth': 1, 'vqc_depth': 4, 'num_iter': 5, 'optimizer': 'COBYLA', 'feature_map': 'ZZFeatureMap', 'var_form': 'EfficientSU2', 'features': ['JetTrackR', 'JetNumISOTracks', 'JetTrackMass']}. Best is trial 12 with value: 0.9166666666666667.\u001b[0m\n"
     ]
    },
    {
     "name": "stdout",
     "output_type": "stream",
     "text": [
      "\n",
      "   Return from subroutine COBYLA because the MAXFUN limit has been reached.\n",
      "\n",
      "   NFVALS =    5   F = 6.636057E-01    MAXCV = 0.000000E+00\n",
      "   X = 2.890705E-01   1.065319E+00   1.184938E+00  -7.454253E-01   1.298813E+00\n",
      "       1.142250E-02  -8.382958E-01   1.042677E+00  -9.622812E-01   1.382092E-01\n",
      "       8.170426E-01   6.397408E-01  -6.894102E-01  -4.111220E-01  -6.864551E-01\n",
      "      -1.189003E+00  -2.184189E-02  -4.302753E-01   1.484176E+00  -5.112592E-01\n",
      "       1.214101E+00  -6.426731E-02  -1.968969E-01   7.477643E-01  -1.892115E-01\n",
      "       1.136684E+00  -9.702811E-01   2.925293E-01   3.841436E-01  -2.615926E-01\n"
     ]
    },
    {
     "name": "stderr",
     "output_type": "stream",
     "text": [
      "\u001b[32m[I 2022-04-11 21:34:33,771]\u001b[0m Trial 96 finished with value: 0.3888888888888889 and parameters: {'num_job': 17, 'encoder_depth': 4, 'vqc_depth': 4, 'num_iter': 5, 'optimizer': 'COBYLA', 'feature_map': 'ZZFeatureMap', 'var_form': 'EfficientSU2', 'features': ['JetCentralEFrac', 'JetLeadingTrackFracP', 'JetNumISOTracks']}. Best is trial 12 with value: 0.9166666666666667.\u001b[0m\n"
     ]
    },
    {
     "name": "stdout",
     "output_type": "stream",
     "text": [
      "\n",
      "   Return from subroutine COBYLA because the MAXFUN limit has been reached.\n",
      "\n",
      "   NFVALS =    5   F = 7.160124E-01    MAXCV = 0.000000E+00\n",
      "   X =-1.954455E-01   2.935186E+00   1.725121E+00   3.269444E-01   3.273434E-02\n",
      "      -7.537770E-01   4.992255E-01   3.614143E-01  -1.552618E+00  -9.955746E-01\n",
      "       8.959317E-01  -4.451783E-01  -6.787227E-01   1.902262E+00  -2.086048E+00\n",
      "       6.328877E-01  -6.429648E-01  -4.922637E-01  -1.518429E-01   7.660005E-01\n",
      "      -5.020411E-01   1.103760E+00  -1.406358E+00   1.599023E+00   2.422857E-01\n",
      "       1.183264E+00   2.207039E+00   1.255097E+00   2.086996E-01  -1.551299E-01\n",
      "       3.076206E-01   2.293906E+00  -7.034538E-01  -1.682276E-01  -4.446439E-01\n",
      "      -9.771687E-02\n"
     ]
    },
    {
     "name": "stderr",
     "output_type": "stream",
     "text": [
      "\u001b[32m[I 2022-04-11 21:34:40,833]\u001b[0m Trial 97 finished with value: 0.8125 and parameters: {'num_job': 47, 'encoder_depth': 3, 'vqc_depth': 5, 'num_iter': 5, 'optimizer': 'COBYLA', 'feature_map': 'ZZFeatureMap', 'var_form': 'EfficientSU2', 'features': ['JetCentralEFrac', 'JetTrackR', 'JetLeadingTrackD0']}. Best is trial 12 with value: 0.9166666666666667.\u001b[0m\n"
     ]
    },
    {
     "name": "stdout",
     "output_type": "stream",
     "text": [
      "\n",
      "   Return from subroutine COBYLA because the MAXFUN limit has been reached.\n",
      "\n",
      "   NFVALS =    4   F = 7.045983E-01    MAXCV = 0.000000E+00\n",
      "   X =-7.412539E-01   4.639650E-01  -1.639624E+00  -6.701019E-01  -7.750767E-01\n",
      "       9.316614E-01   9.395560E-01   2.079474E+00  -2.822113E-01   9.030482E-01\n",
      "       8.656961E-01   2.200595E-02  -5.555802E-01  -8.484022E-01  -1.325691E+00\n",
      "       1.452300E+00   3.955735E-02  -1.148325E+00  -7.568828E-01   1.174559E-01\n",
      "       6.295292E-01  -8.677325E-02  -2.728359E-01  -3.118172E-01   4.532342E-01\n",
      "      -2.334230E+00   8.731764E-01  -1.249765E+00  -3.574985E-01  -1.981978E-01\n",
      "      -4.094803E-01   2.650215E-01   2.747977E-01   1.203963E+00  -3.048131E-01\n",
      "       3.579600E-01\n"
     ]
    },
    {
     "name": "stderr",
     "output_type": "stream",
     "text": [
      "\u001b[32m[I 2022-04-11 21:34:47,036]\u001b[0m Trial 98 finished with value: 0.5555555555555556 and parameters: {'num_job': 31, 'encoder_depth': 3, 'vqc_depth': 5, 'num_iter': 4, 'optimizer': 'COBYLA', 'feature_map': 'ZZFeatureMap', 'var_form': 'EfficientSU2', 'features': ['JetCentralEFrac', 'JetTrackR', 'JetLeadingTrackD0']}. Best is trial 12 with value: 0.9166666666666667.\u001b[0m\n"
     ]
    },
    {
     "name": "stdout",
     "output_type": "stream",
     "text": [
      "\n",
      "   Return from subroutine COBYLA because the MAXFUN limit has been reached.\n",
      "\n",
      "   NFVALS =    5   F = 7.095752E-01    MAXCV = 0.000000E+00\n",
      "   X = 1.387816E+00   2.215907E+00   2.194386E+00   1.181642E+00  -1.275245E+00\n",
      "      -1.411988E+00  -8.500705E-01   3.429689E-01  -1.332324E+00   2.549149E-01\n",
      "       2.005954E+00  -3.004996E-01   1.214937E+00  -1.079934E+00   2.863684E-01\n",
      "      -7.369260E-01  -4.546795E-01   1.025228E+00   1.018824E+00   1.489146E-01\n",
      "      -3.477031E-01   9.777197E-02  -5.368035E-01   3.760953E-01  -2.146774E-01\n",
      "       7.951332E-02  -4.133305E-01   9.751948E-02   1.499876E+00   7.373299E-01\n",
      "       5.871918E-01   1.092818E+00  -2.476770E+00  -2.288328E+00  -3.346578E-01\n",
      "      -8.688283E-01\n"
     ]
    },
    {
     "name": "stderr",
     "output_type": "stream",
     "text": [
      "\u001b[32m[I 2022-04-11 21:34:53,896]\u001b[0m Trial 99 finished with value: 0.6145833333333334 and parameters: {'num_job': 15, 'encoder_depth': 3, 'vqc_depth': 5, 'num_iter': 5, 'optimizer': 'COBYLA', 'feature_map': 'ZZFeatureMap', 'var_form': 'EfficientSU2', 'features': ['JetCentralEFrac', 'JetTrackR', 'JetLeadingTrackD0']}. Best is trial 12 with value: 0.9166666666666667.\u001b[0m\n"
     ]
    },
    {
     "name": "stdout",
     "output_type": "stream",
     "text": [
      "\n",
      "   Return from subroutine COBYLA because the MAXFUN limit has been reached.\n",
      "\n",
      "   NFVALS =    3   F = 7.059117E-01    MAXCV = 0.000000E+00\n",
      "   X = 7.854383E-01  -4.660575E-01  -2.038000E+00  -2.556647E-01   9.075081E-01\n",
      "       6.347858E-02   1.115628E-01   2.180611E+00  -5.398106E-01   8.880866E-01\n",
      "      -1.521268E+00  -5.856715E-02   3.097813E-01   6.356372E-01  -1.232306E-01\n",
      "      -4.019917E-01  -4.321896E-01   1.190512E+00   1.868028E+00  -9.656035E-01\n",
      "      -2.093649E-02   5.301120E-01   1.260260E+00   3.166362E-01  -4.451821E-01\n",
      "       1.660476E-01   4.442562E-01   3.582387E-01  -1.595602E-01   7.951600E-01\n",
      "       9.208110E-01  -6.498344E-01  -6.593896E-01   1.859251E+00   6.178863E-01\n",
      "      -7.691766E-02\n"
     ]
    },
    {
     "name": "stderr",
     "output_type": "stream",
     "text": [
      "\u001b[32m[I 2022-04-11 21:34:59,594]\u001b[0m Trial 100 finished with value: 0.625 and parameters: {'num_job': 14, 'encoder_depth': 3, 'vqc_depth': 5, 'num_iter': 3, 'optimizer': 'COBYLA', 'feature_map': 'ZZFeatureMap', 'var_form': 'EfficientSU2', 'features': ['JetCentralEFrac', 'JetNumISOTracks', 'JetTrackMass']}. Best is trial 12 with value: 0.9166666666666667.\u001b[0m\n"
     ]
    },
    {
     "name": "stdout",
     "output_type": "stream",
     "text": [
      "\n",
      "   Return from subroutine COBYLA because the MAXFUN limit has been reached.\n",
      "\n",
      "   NFVALS =    5   F = 7.152568E-01    MAXCV = 0.000000E+00\n",
      "   X = 4.911355E-01   6.035346E-01   2.841487E-01  -3.139309E-01  -6.384172E-02\n",
      "      -5.960144E-01  -7.524010E-01  -9.213044E-01  -4.598297E-01   8.456533E-01\n",
      "      -8.499670E-01   3.978620E-01   7.435452E-01  -1.554319E+00  -8.974200E-01\n",
      "       9.255769E-01   8.985212E-01  -4.846922E-02   1.790887E-01  -1.054958E+00\n",
      "       1.454974E+00  -4.370753E-01  -1.010130E+00   4.585783E-01\n"
     ]
    },
    {
     "name": "stderr",
     "output_type": "stream",
     "text": [
      "\u001b[32m[I 2022-04-11 21:35:06,215]\u001b[0m Trial 101 finished with value: 0.736111111111111 and parameters: {'num_job': 48, 'encoder_depth': 3, 'vqc_depth': 3, 'num_iter': 5, 'optimizer': 'COBYLA', 'feature_map': 'ZZFeatureMap', 'var_form': 'EfficientSU2', 'features': ['JetLeadingTrackFracP', 'JetTrackR', 'JetNumISOTracks']}. Best is trial 12 with value: 0.9166666666666667.\u001b[0m\n"
     ]
    },
    {
     "name": "stdout",
     "output_type": "stream",
     "text": [
      "\n",
      "   Return from subroutine COBYLA because the MAXFUN limit has been reached.\n",
      "\n",
      "   NFVALS =    5   F = 6.422642E-01    MAXCV = 0.000000E+00\n",
      "   X = 1.226561E+00   3.040268E-01  -1.641291E+00  -2.815650E-02   8.189971E-01\n",
      "      -5.082542E-01   9.975284E-01   8.984273E-01  -1.246853E+00   1.197552E+00\n",
      "       1.407847E+00   1.390208E-01   3.840266E-01   7.176121E-01  -8.422465E-01\n",
      "      -4.562840E-01  -9.159938E-02   1.299043E+00   6.524615E-01   1.166096E+00\n",
      "      -3.930510E-01   5.937833E-01  -2.055130E+00  -1.224592E-01   2.878195E-01\n",
      "       1.082234E+00   9.856451E-01   3.223148E-01  -6.430593E-01   8.807122E-01\n",
      "      -1.427618E-01   1.927750E-01  -9.367407E-01  -3.219311E-02  -1.040150E+00\n",
      "       2.635404E+00\n"
     ]
    },
    {
     "name": "stderr",
     "output_type": "stream",
     "text": [
      "\u001b[32m[I 2022-04-11 21:35:13,854]\u001b[0m Trial 102 finished with value: 0.84375 and parameters: {'num_job': 47, 'encoder_depth': 4, 'vqc_depth': 5, 'num_iter': 5, 'optimizer': 'COBYLA', 'feature_map': 'ZZFeatureMap', 'var_form': 'EfficientSU2', 'features': ['JetMaxDRInCore', 'JetNumISOTracks', 'JetTrackMass']}. Best is trial 12 with value: 0.9166666666666667.\u001b[0m\n"
     ]
    },
    {
     "name": "stdout",
     "output_type": "stream",
     "text": [
      "\n",
      "   Return from subroutine COBYLA because the MAXFUN limit has been reached.\n",
      "\n",
      "   NFVALS =    5   F = 7.071649E-01    MAXCV = 0.000000E+00\n",
      "   X = 1.774146E+00  -4.279634E-01  -7.298052E-01  -1.544393E+00  -4.616059E-01\n",
      "      -8.880090E-01  -3.778311E-01  -1.319256E+00  -9.584195E-02  -5.301313E-01\n",
      "      -1.486826E-01   8.056574E-01   4.439690E-02   7.854717E-01  -3.339065E-01\n",
      "       1.194308E-01   3.959806E-01   1.062426E+00   3.601619E-01   1.105913E+00\n",
      "      -6.425450E-01   5.079696E-01  -3.237877E-01   1.018344E+00  -1.291272E+00\n",
      "       5.360107E-02  -8.962591E-01  -9.014435E-01  -8.176346E-01  -3.116036E-01\n",
      "       4.214308E-02  -1.040422E+00   2.164820E-01  -2.260446E+00   1.586837E+00\n",
      "       1.022430E+00\n"
     ]
    },
    {
     "name": "stderr",
     "output_type": "stream",
     "text": [
      "\u001b[32m[I 2022-04-11 21:35:21,160]\u001b[0m Trial 103 finished with value: 0.5902777777777778 and parameters: {'num_job': 50, 'encoder_depth': 4, 'vqc_depth': 5, 'num_iter': 5, 'optimizer': 'COBYLA', 'feature_map': 'ZZFeatureMap', 'var_form': 'EfficientSU2', 'features': ['JetMaxDRInCore', 'JetNumISOTracks', 'JetTrackMass']}. Best is trial 12 with value: 0.9166666666666667.\u001b[0m\n"
     ]
    },
    {
     "name": "stdout",
     "output_type": "stream",
     "text": [
      "\n",
      "   Return from subroutine COBYLA because the MAXFUN limit has been reached.\n",
      "\n",
      "   NFVALS =    5   F = 7.289817E-01    MAXCV = 0.000000E+00\n",
      "   X = 2.302049E+00  -2.191014E-01   2.163153E+00  -9.421531E-01   4.228859E-01\n",
      "      -1.285602E+00  -4.087169E-01  -1.197790E+00   1.669315E+00  -5.928705E-02\n",
      "      -9.168027E-01  -4.497721E-01   1.628242E-01  -1.001958E+00  -1.482600E+00\n",
      "      -8.408623E-01  -3.468193E-01   5.185963E-01   1.263578E+00   5.811654E-01\n",
      "      -1.320939E+00   7.155305E-01  -6.645108E-01  -1.222578E+00   3.273793E-01\n",
      "       5.224444E-01  -7.478188E-01   3.932117E-01   7.107827E-01   8.744721E-01\n",
      "       6.570142E-02   3.390512E-01   2.171996E-01   1.148444E+00   5.217869E-01\n",
      "      -7.092980E-01\n"
     ]
    },
    {
     "name": "stderr",
     "output_type": "stream",
     "text": [
      "\u001b[32m[I 2022-04-11 21:35:28,855]\u001b[0m Trial 104 finished with value: 0.638888888888889 and parameters: {'num_job': 11, 'encoder_depth': 4, 'vqc_depth': 5, 'num_iter': 5, 'optimizer': 'COBYLA', 'feature_map': 'ZZFeatureMap', 'var_form': 'EfficientSU2', 'features': ['JetMaxDRInCore', 'JetNumISOTracks', 'JetTrackMass']}. Best is trial 12 with value: 0.9166666666666667.\u001b[0m\n"
     ]
    },
    {
     "data": {
      "text/plain": [
       "<Figure size 432x288 with 0 Axes>"
      ]
     },
     "metadata": {},
     "output_type": "display_data"
    }
   ],
   "source": [
    "study = create_study(start_new=False)\n",
    "study.optimize(objective, n_trials=50, timeout=6000) # Can change the number of trials and timeout (in seconds)"
   ]
  },
  {
   "cell_type": "code",
   "execution_count": 6,
   "id": "869ba611",
   "metadata": {},
   "outputs": [
    {
     "name": "stdout",
     "output_type": "stream",
     "text": [
      "Best trial:\n",
      "  Value:  0.9166666666666667\n",
      "  Params: \n",
      "    encoder_depth: 4\n",
      "    feature_map: ZZFeatureMap\n",
      "    features: ['JetCentralEFrac', 'JetTrackR', 'JetMaxDRInCore']\n",
      "    num_iter: 4\n",
      "    num_job: 25\n",
      "    optimizer: COBYLA\n",
      "    var_form: EfficientSU2\n",
      "    vqc_depth: 4\n"
     ]
    }
   ],
   "source": [
    "# Print the best stats\n",
    "print(\"Best trial:\")\n",
    "trial = study.best_trial\n",
    "print(\"  Value: \", trial.value)\n",
    "print(\"  Params: \")\n",
    "for key, value in trial.params.items():\n",
    "    print(\"    {}: {}\".format(key, value))"
   ]
  }
 ],
 "metadata": {
  "kernelspec": {
   "display_name": "QCB",
   "language": "python",
   "name": "qcb"
  },
  "language_info": {
   "codemirror_mode": {
    "name": "ipython",
    "version": 3
   },
   "file_extension": ".py",
   "mimetype": "text/x-python",
   "name": "python",
   "nbconvert_exporter": "python",
   "pygments_lexer": "ipython3",
   "version": "3.8.13"
  }
 },
 "nbformat": 4,
 "nbformat_minor": 5
}
